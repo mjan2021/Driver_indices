{
 "cells": [
  {
   "cell_type": "code",
   "execution_count": null,
   "id": "6f2f6579-19e3-41bd-8460-5ef9f5068658",
   "metadata": {},
   "outputs": [],
   "source": []
  },
  {
   "cell_type": "markdown",
   "id": "b4e633cf",
   "metadata": {},
   "source": [
    "### Validation for Empty Video Folder"
   ]
  },
  {
   "cell_type": "code",
   "execution_count": 78,
   "id": "b7d653d7",
   "metadata": {},
   "outputs": [
    {
     "name": "stdout",
     "output_type": "stream",
     "text": [
      "idx: 1003 1004-nonAI, files: 0\n",
      "idx: 1005-nonAI, files: 0\n"
     ]
    }
   ],
   "source": [
    "import glob\n",
    "folder = 'Z:/VIDEOS'\n",
    "# video_list = glob.glob(folder + '/*/Video/**/*.asf')\n",
    "# video_list\n",
    "\n",
    "ids = os.listdir(folder)\n",
    "\n",
    "for idx in ids:\n",
    "    files = glob.glob(folder + '/' + idx + '/Video/**/*.asf')\n",
    "    if len(files) < 1:\n",
    "        print(f'idx: {idx}, files: {len(files)}')"
   ]
  },
  {
   "cell_type": "code",
   "execution_count": 1,
   "id": "672caf16",
   "metadata": {},
   "outputs": [],
   "source": [
    "import os\n",
    "import json\n",
    "import random\n",
    "import metaData\n",
    "import argparse\n",
    "from tqdm import tqdm\n",
    "import datetime\n",
    "import pandas as pd\n"
   ]
  },
  {
   "cell_type": "code",
   "execution_count": null,
   "id": "fd47c2d0-3e97-4738-9004-7192341864f7",
   "metadata": {},
   "outputs": [],
   "source": [
    "json_file = 'Datafiles/data_storage_Jan2023.json'\n",
    "with open(json_file) as file:\n",
    "    data = json.load(file)"
   ]
  },
  {
   "cell_type": "code",
   "execution_count": null,
   "id": "984b329e-eec5-4096-9999-dca66580f59b",
   "metadata": {},
   "outputs": [],
   "source": [
    "days_list = {}\n",
    "days = []\n",
    "for i, d in enumerate(data['data'][:500]):\n",
    "    if d['id'] in days_list.keys():\n",
    "        days_list[d['id']].append(d['day'])\n",
    "    elif d['id'] not in days_list.keys():\n",
    "        days_list[d['id']] = list()\n",
    "        days_list[d['id']].append(d['day'])\n",
    "    # print(f\"Index: {i}, Data: {d['day']}\")\n",
    "    # days.append(d['day'])\n",
    "\n",
    "days_list_sorted = {k: sorted(v) for k, v in days_list.items()}"
   ]
  },
  {
   "cell_type": "code",
   "execution_count": null,
   "id": "10c16497",
   "metadata": {},
   "outputs": [],
   "source": [
    "df = pd.read_json(json_file)\n",
    "dt = pd.DataFrame(df['data'], columns=['id', 'day', 'duration'])\n",
    "\n",
    "\n",
    "jn = pd.json_normalize(df['data'])\n"
   ]
  },
  {
   "cell_type": "code",
   "execution_count": null,
   "id": "293fa3ff",
   "metadata": {},
   "outputs": [],
   "source": [
    "col_list = []\n",
    "ts_list = []\n",
    "for col, row in jn.iloc[:10].iterrows():\n",
    "    for idx in row:\n",
    "        # col_list.append(idx)\n",
    "        if type(idx) == list and len(idx) > 0:\n",
    "            for item in idx:\n",
    "                ts_list.append(item)\n",
    "        else:\n",
    "            col_list.append(idx)\n",
    "            if ts_list != []:\n",
    "                col_list.append(ts_list)\n",
    "                ts_list = []\n",
    "            "
   ]
  },
  {
   "cell_type": "code",
   "execution_count": null,
   "id": "3a2302bd",
   "metadata": {},
   "outputs": [
    {
     "data": {
      "text/plain": [
       "Index(['id', 'day', 'duration', 'yawn.total', 'yawn.timestamp',\n",
       "       'smoking.total', 'smoking.timestamp', 'mobilephone.total',\n",
       "       'mobilephone.timestamp', 'distraction.total', 'distraction.timestamp',\n",
       "       'eyeclosing.total', 'eyeclosing.timestamp', 'crossinglane.total',\n",
       "       'crossinglane.timestamp', 'nearcollision.total',\n",
       "       'nearcollision.timestamp', 'stopsign.total', 'stopsign.timestamp',\n",
       "       'redlight.total', 'redlight.timestamp', 'pedestrian.total',\n",
       "       'pedestrian.timestamp'],\n",
       "      dtype='object')"
      ]
     },
     "execution_count": 24,
     "metadata": {},
     "output_type": "execute_result"
    }
   ],
   "source": [
    "jn.columns\n",
    "\n",
    "ts_cols = ['yawn.timestamp',\n",
    "           'smoking.timestamp',\n",
    "           'mobilephone.timestamp',\n",
    "           'distraction.timestamp',\n",
    "           'eyeclosing.timestamp',\n",
    "           'crossinglane.timestamp',\n",
    "           'nearcollision.timestamp',\n",
    "           'stopsign.timestamp',\n",
    "           'redlight.timestamp',\n",
    "           'pedestrian.timestamp',\n",
    "           ]\n"
   ]
  },
  {
   "cell_type": "markdown",
   "id": "f86f0e37",
   "metadata": {},
   "source": [
    "### Data Aggregate"
   ]
  },
  {
   "cell_type": "code",
   "execution_count": null,
   "id": "5ef44c3a",
   "metadata": {},
   "outputs": [],
   "source": [
    "#  sort a list of dictionaries by value1 and value2\n",
    "def sort_list_of_dict_by_value(list_of_dict, value1, value2):\n",
    "    return sorted(list_of_dict, key=lambda k: (k[value1], k[value2]))\n",
    "\n",
    "\n",
    "# get next 90 days from a given date\n",
    "# return a single date for next 90 days\n",
    "def get_next_90_days(start_date):\n",
    "    yyyy = start_date[:4]\n",
    "    mm = start_date[4:6]\n",
    "    dd = start_date[6:]\n",
    "\n",
    "    converted_date = datetime.datetime(int(yyyy), int(mm), int(dd))\n",
    "    next_months = converted_date + datetime.timedelta(days=90)\n",
    "    return str(next_months)[:10].replace('-', '')\n",
    "\n",
    "def get_next_90_days_data_from_sorted_list_of_dict(list_of_dict, value1, value2):\n",
    "    next_90_days = []\n",
    "    for i, d in enumerate(list_of_dict):\n",
    "        if i == len(list_of_dict)-1:\n",
    "            break\n",
    "        next_90_days.append(get_next_90_days(d[value2]))\n",
    "    return next_90_days\n",
    "\n",
    "# calculate number of day between two dates\n",
    "def days_between(d1, d2):\n",
    "    d1 = datetime.datetime.strptime(d1, \"%Y%m%d\")\n",
    "    d2 = datetime.datetime.strptime(d2, \"%Y%m%d\")\n",
    "    return abs((d2 - d1).days)\n",
    "\n",
    "# days_between('20200301', '20200102')"
   ]
  },
  {
   "cell_type": "code",
   "execution_count": null,
   "id": "a86273cd",
   "metadata": {},
   "outputs": [],
   "source": [
    "sl = sort_list_of_dict_by_value(data['data'], 'id', 'day')\n",
    "d = get_next_90_days_data_from_sorted_list_of_dict(sl, 'id', 'day')"
   ]
  },
  {
   "cell_type": "markdown",
   "id": "e1e29d4e",
   "metadata": {},
   "source": [
    "### Extracting Data Based on Timestamp"
   ]
  },
  {
   "cell_type": "code",
   "execution_count": 2,
   "id": "1f4cb3de",
   "metadata": {},
   "outputs": [],
   "source": [
    "# filePath = 'Z:/VIDEOS/1010/Disk_files/debug/'\n",
    "def extract_indices_from_log(filePath,file):\n",
    "    alarmsDict = {'NOBODY': 0, 'LOOKING_DOWN': 0, 'SMOKING': 0, 'CALLING':0, 'LDW': 0, 'EYE_CLOSED': 0, 'LDW_R': 0, 'LDW_L':0, 'FCW':0, 'camera cover!':0, 'infrared block!': 0 }\n",
    "    alarmsTimeStamp = {'NOBODY': [], 'LOOKING_DOWN': [], 'SMOKING': [], 'CALLING':[], 'LDW': [], 'EYE_CLOSED': [], 'LDW_R': [], 'LDW_L':[], 'FCW':[], 'camera cover!':[], 'infrared block!': [] }\n",
    "    # alarmsDict = {'alarm_type 5': 0, 'alarm_type 4': 0, 'alarm_type 3': 0, 'alarm_type 1': 0, 'alarm_type 2': 0, 'alarm_type 17': 0, 'alarm_type 18': 0, 'alarm_type 27':0, 'alarm_type 16':0, 'alarm_type 9':0, 'alarm_type 7': 0 }\n",
    "    # alarmsTimeStamp = {'alarm_type 5': [], 'alarm_type 4': [], 'alarm_type 3': [], 'alarm_type 1': [], 'alarm_type 2': [], 'alarm_type 17': [], 'alarm_type 18': [], 'alarm_type 27':[], 'alarm_type 16':[], 'alarm_type 9':[], 'alarm_type 7': [] }\n",
    "    \n",
    "    error_files = []\n",
    "    # print(f\"Processing debug file {file}\")\n",
    "    with open(os.path.join(filePath, file), 'r') as logFile:\n",
    "        lines = logFile.read().splitlines()\n",
    "        for line in lines:\n",
    "            words = line.split(\" \")\n",
    "            \"\"\"\n",
    "            Retrieve alarm will be here\n",
    "            \"\"\"\n",
    "            for alarm in alarmsDict.keys():\n",
    "                if alarm in words:\n",
    "                    alarmsDict[alarm] += 1\n",
    "                    # below is date extraction so needs to be corrected****** --> currently is this -->[20210504-140826][03][baseIVS]\n",
    "                    try:\n",
    "                        timestamp = \"\".join(words[0].split('[')[1].split('-')).strip(']')\n",
    "                        alarmsTimeStamp[alarm].append(timestamp)\n",
    "                    except Exception:\n",
    "                        error_files.append(file)\n",
    "\n",
    "        # logFile.close()\n",
    "        # print(alarmsDict)\n",
    "    return alarmsDict, alarmsTimeStamp, error_files"
   ]
  },
  {
   "cell_type": "code",
   "execution_count": 3,
   "id": "c90d2b8c",
   "metadata": {},
   "outputs": [],
   "source": [
    "excluded_list = ['1003 1004','1031 1017','1011 1012','1043 1044','1013 1014','1003 1004-nonAI', '1005-nonAI', '1073', '2062']\n",
    "ids = []\n",
    "for item in os.listdir('Z:/VIDEOS/'):\n",
    "    if item not in excluded_list:\n",
    "        ids.append(item)"
   ]
  },
  {
   "cell_type": "code",
   "execution_count": 9,
   "id": "7c16cfbd",
   "metadata": {},
   "outputs": [
    {
     "name": "stderr",
     "output_type": "stream",
     "text": [
      "100%|██████████| 40/40 [06:11<00:00,  9.30s/it]\n"
     ]
    }
   ],
   "source": [
    "jsonfile = []\n",
    "mapping = {'NOBODY': 0,\n",
    "           'LOOKING_DOWN': 1,\n",
    "           'SMOKING': 2, \n",
    "           'CALLING': 3, \n",
    "           'LDW': 5, \n",
    "           'EYE_CLOSED': 4, \n",
    "           'LDW_R': 5, \n",
    "           'LDW_L':5, \n",
    "           'FCW':6, \n",
    "           'camera cover!':0, \n",
    "           'infrared block!': 0 }\n",
    "    \n",
    "for each_driver in tqdm(ids):\n",
    "    logFolder = f'Z:/VIDEOS/{each_driver}/Disk_files/debug/'\n",
    "    for logfile in os.listdir(logFolder):\n",
    "        driverid = logFolder.split('/')[2]\n",
    "        \n",
    "        # if logfile.endswith('.log'):\n",
    "        alarmdict, alarmtimestamp, err = extract_indices_from_log(logFolder, logfile)\n",
    "        for key, value in alarmtimestamp.items():\n",
    "            for ts in value:\n",
    "                if key != 'NOBODY':\n",
    "                    id = driverid\n",
    "                    alarm_type = key\n",
    "                    date = ts[:9]\n",
    "                    \n",
    "                    transform_dict = {'id': id, 'date': date, 'timestamp': ts, 'type': mapping[alarm_type]}\n",
    "                    jsonfile.append(transform_dict)\n",
    "\n",
    "with open('./Datafiles/Timestamps_data.json', 'w') as jsonf:\n",
    "    json.dump(jsonfile, jsonf)    \n",
    "        \n",
    "        "
   ]
  }
 ],
 "metadata": {
  "kernelspec": {
   "display_name": "Python 3 (ipykernel)",
   "language": "python",
   "name": "python3"
  },
  "language_info": {
   "codemirror_mode": {
    "name": "ipython",
    "version": 3
   },
   "file_extension": ".py",
   "mimetype": "text/x-python",
   "name": "python",
   "nbconvert_exporter": "python",
   "pygments_lexer": "ipython3",
   "version": "3.7.1"
  },
  "vscode": {
   "interpreter": {
    "hash": "5dd92fb0320f6de981139fad36e905da6c43d5f0ca47ced40c32e9f3f500edc2"
   }
  }
 },
 "nbformat": 4,
 "nbformat_minor": 5
}
