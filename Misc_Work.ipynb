{
 "cells": [
  {
   "cell_type": "code",
   "execution_count": 6,
   "id": "6f2f6579-19e3-41bd-8460-5ef9f5068658",
   "metadata": {},
   "outputs": [],
   "source": [
    "import os\n",
    "import json\n",
    "import random\n",
    "import metaData\n",
    "import argparse\n",
    "from tqdm import tqdm\n",
    "import datetime"
   ]
  },
  {
   "cell_type": "code",
   "execution_count": 2,
   "id": "fd47c2d0-3e97-4738-9004-7192341864f7",
   "metadata": {},
   "outputs": [],
   "source": [
    "json_file = 'data_storage.json'\n",
    "with open(json_file) as file:\n",
    "    data = json.load(file)"
   ]
  },
  {
   "cell_type": "code",
   "execution_count": 3,
   "id": "984b329e-eec5-4096-9999-dca66580f59b",
   "metadata": {},
   "outputs": [],
   "source": [
    "days_list = {}\n",
    "days = []\n",
    "for i, d in enumerate(data['data'][:500]):\n",
    "    if d['id'] in days_list.keys():\n",
    "        days_list[d['id']].append(d['day'])\n",
    "    elif d['id'] not in days_list.keys():\n",
    "        days_list[d['id']] = list()\n",
    "        days_list[d['id']].append(d['day'])\n",
    "    # print(f\"Index: {i}, Data: {d['day']}\")\n",
    "    # days.append(d['day'])\n",
    "\n",
    "days_list_sorted = {k: sorted(v) for k, v in days_list.items()}"
   ]
  },
  {
   "attachments": {},
   "cell_type": "markdown",
   "id": "f86f0e37",
   "metadata": {},
   "source": [
    "### Data Aggregate"
   ]
  },
  {
   "cell_type": "code",
   "execution_count": 7,
   "id": "64e77891",
   "metadata": {},
   "outputs": [],
   "source": [
    "\n"
   ]
  },
  {
   "cell_type": "code",
   "execution_count": 43,
   "id": "5ef44c3a",
   "metadata": {},
   "outputs": [],
   "source": [
    "#  sort a list of dictionaries by value1 and value2\n",
    "def sort_list_of_dict_by_value(list_of_dict, value1, value2):\n",
    "    return sorted(list_of_dict, key=lambda k: (k[value1], k[value2]))\n",
    "\n",
    "\n",
    "# get next 90 days from a given date\n",
    "# return a single date for next 90 days\n",
    "def get_next_90_days(start_date):\n",
    "    yyyy = start_date[:4]\n",
    "    mm = start_date[4:6]\n",
    "    dd = start_date[6:]\n",
    "\n",
    "    converted_date = datetime.datetime(int(yyyy), int(mm), int(dd))\n",
    "    next_months = converted_date + datetime.timedelta(days=90)\n",
    "    return str(next_months)[:10].replace('-', '')\n",
    "\n",
    "def get_next_90_days_data_from_sorted_list_of_dict(list_of_dict, value1, value2):\n",
    "    next_90_days = []\n",
    "    for i, d in enumerate(list_of_dict):\n",
    "        if i == len(list_of_dict)-1:\n",
    "            break\n",
    "        next_90_days.append(get_next_90_days(d[value2]))\n",
    "    return next_90_days\n",
    "\n",
    "# calculate number of day between two dates\n",
    "def days_between(d1, d2):\n",
    "    d1 = datetime.datetime.strptime(d1, \"%Y%m%d\")\n",
    "    d2 = datetime.datetime.strptime(d2, \"%Y%m%d\")\n",
    "    return abs((d2 - d1).days)\n",
    "\n",
    "# days_between('20200301', '20200102')"
   ]
  },
  {
   "cell_type": "code",
   "execution_count": 39,
   "id": "a86273cd",
   "metadata": {},
   "outputs": [],
   "source": [
    "sl = sort_list_of_dict_by_value(data['data'], 'id', 'day')\n",
    "d = get_next_90_days_data_from_sorted_list_of_dict(sl, 'id', 'day')"
   ]
  },
  {
   "cell_type": "code",
   "execution_count": 47,
   "id": "4cc8c023",
   "metadata": {},
   "outputs": [
    {
     "data": {
      "text/plain": [
       "'20200401'"
      ]
     },
     "execution_count": 47,
     "metadata": {},
     "output_type": "execute_result"
    }
   ],
   "source": [
    "aggreate_data = {'id': }\n",
    "for i, d in enumerate(sl):\n",
    "    "
   ]
  }
 ],
 "metadata": {
  "kernelspec": {
   "display_name": "Driver_indices-DsFqzCcB",
   "language": "python",
   "name": "python3"
  },
  "language_info": {
   "codemirror_mode": {
    "name": "ipython",
    "version": 3
   },
   "file_extension": ".py",
   "mimetype": "text/x-python",
   "name": "python",
   "nbconvert_exporter": "python",
   "pygments_lexer": "ipython3",
   "version": "3.7.1"
  },
  "vscode": {
   "interpreter": {
    "hash": "5dd92fb0320f6de981139fad36e905da6c43d5f0ca47ced40c32e9f3f500edc2"
   }
  }
 },
 "nbformat": 4,
 "nbformat_minor": 5
}
